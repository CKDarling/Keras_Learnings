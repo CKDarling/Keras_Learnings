{
 "cells": [
  {
   "cell_type": "code",
   "execution_count": 1,
   "metadata": {},
   "outputs": [],
   "source": [
    "%matplotlib inline\n",
    "import matplotlib.pyplot as plt\n",
    "import pandas as pd\n",
    "import numpy as np\n",
    "from keras.wrappers.scikit_learn import KerasClassifier\n",
    "from keras.models import Sequential # Adding elements in a sequence\n",
    "from keras.layers import Dense\n",
    "from keras.optimizers import Adam, SGD # Change our weights and biases\n",
    "from sklearn.model_selection import train_test_split\n",
    "\n",
    "from sklearn.metrics import accuracy_score\n",
    "from sklearn.model_selection import cross_val_score, KFold\n",
    "from sklearn.metrics import confusion_matrix\n",
    "from sklearn.metrics import r2_score\n",
    "from sklearn.metrics import precision_score, recall_score, f1_score\n",
    "from sklearn.metrics import classification_report\n",
    "\n",
    "from sklearn.preprocessing import StandardScaler\n",
    "from sklearn.preprocessing import MinMaxScaler"
   ]
  },
  {
   "cell_type": "markdown",
   "metadata": {},
   "source": [
    "## Exercise 1\n",
    "\n",
    "You've just been hired at a real estate investment firm and they would like you to build a model for pricing houses. You are given a dataset that contains data for house prices and a few features like number of bedrooms, size in square feet and age of the house. Let's see if you can build a model that is able to predict the price. In this exercise we extend what we have learned about linear regression to a dataset with more than one feature. Here are the steps to complete it:\n",
    "\n",
    "1. Load the dataset ../data/housing-data.csv\n",
    "- plot the histograms for each feature\n",
    "- create 2 variables called X and y: X shall be a matrix with 3 columns (sqft,bdrms,age) and y shall be a vector with 1 column (price)\n",
    "- create a linear regression model in Keras with the appropriate number of inputs and output\n",
    "- split the data into train and test with a 20% test size\n",
    "- train the model on the training set and check its accuracy on training and test set\n",
    "- how's your model doing? Is the loss growing smaller?\n",
    "- try to improve your model with these experiments:\n",
    "    - normalize the input features with one of the rescaling techniques mentioned above\n",
    "    - use a different value for the learning rate of your model\n",
    "    - use a different optimizer\n",
    "- once you're satisfied with training, check the R2score on the test set"
   ]
  },
  {
   "cell_type": "code",
   "execution_count": 2,
   "metadata": {},
   "outputs": [
    {
     "data": {
      "text/html": [
       "<div>\n",
       "<style scoped>\n",
       "    .dataframe tbody tr th:only-of-type {\n",
       "        vertical-align: middle;\n",
       "    }\n",
       "\n",
       "    .dataframe tbody tr th {\n",
       "        vertical-align: top;\n",
       "    }\n",
       "\n",
       "    .dataframe thead th {\n",
       "        text-align: right;\n",
       "    }\n",
       "</style>\n",
       "<table border=\"1\" class=\"dataframe\">\n",
       "  <thead>\n",
       "    <tr style=\"text-align: right;\">\n",
       "      <th></th>\n",
       "      <th>sqft</th>\n",
       "      <th>bdrms</th>\n",
       "      <th>age</th>\n",
       "      <th>price</th>\n",
       "    </tr>\n",
       "  </thead>\n",
       "  <tbody>\n",
       "    <tr>\n",
       "      <th>0</th>\n",
       "      <td>2104</td>\n",
       "      <td>3</td>\n",
       "      <td>70</td>\n",
       "      <td>399900</td>\n",
       "    </tr>\n",
       "    <tr>\n",
       "      <th>1</th>\n",
       "      <td>1600</td>\n",
       "      <td>3</td>\n",
       "      <td>28</td>\n",
       "      <td>329900</td>\n",
       "    </tr>\n",
       "    <tr>\n",
       "      <th>2</th>\n",
       "      <td>2400</td>\n",
       "      <td>3</td>\n",
       "      <td>44</td>\n",
       "      <td>369000</td>\n",
       "    </tr>\n",
       "    <tr>\n",
       "      <th>3</th>\n",
       "      <td>1416</td>\n",
       "      <td>2</td>\n",
       "      <td>49</td>\n",
       "      <td>232000</td>\n",
       "    </tr>\n",
       "    <tr>\n",
       "      <th>4</th>\n",
       "      <td>3000</td>\n",
       "      <td>4</td>\n",
       "      <td>75</td>\n",
       "      <td>539900</td>\n",
       "    </tr>\n",
       "  </tbody>\n",
       "</table>\n",
       "</div>"
      ],
      "text/plain": [
       "   sqft  bdrms  age   price\n",
       "0  2104      3   70  399900\n",
       "1  1600      3   28  329900\n",
       "2  2400      3   44  369000\n",
       "3  1416      2   49  232000\n",
       "4  3000      4   75  539900"
      ]
     },
     "execution_count": 2,
     "metadata": {},
     "output_type": "execute_result"
    }
   ],
   "source": [
    "housing_data = pd.read_csv('data/housing-data.csv')\n",
    "housing_data.head()"
   ]
  },
  {
   "cell_type": "code",
   "execution_count": 3,
   "metadata": {},
   "outputs": [
    {
     "data": {
      "image/png": "[encoded data removed]",
      "text/plain": [
       "<Figure size 1440x432 with 4 Axes>"
      ]
     },
     "metadata": {
      "needs_background": "light"
     },
     "output_type": "display_data"
    }
   ],
   "source": [
    "plt.figure(figsize=(20,6))\n",
    "for i,feature in enumerate(housing_data.columns):\n",
    "    plt.subplot(1,4,i+1)\n",
    "    housing_data[feature].plot(kind='hist',title=feature)\n",
    "    plt.xlabel(feature)\n",
    "    "
   ]
  },
  {
   "cell_type": "code",
   "execution_count": 4,
   "metadata": {},
   "outputs": [
    {
     "data": {
      "text/html": [
       "<div>\n",
       "<style scoped>\n",
       "    .dataframe tbody tr th:only-of-type {\n",
       "        vertical-align: middle;\n",
       "    }\n",
       "\n",
       "    .dataframe tbody tr th {\n",
       "        vertical-align: top;\n",
       "    }\n",
       "\n",
       "    .dataframe thead th {\n",
       "        text-align: right;\n",
       "    }\n",
       "</style>\n",
       "<table border=\"1\" class=\"dataframe\">\n",
       "  <thead>\n",
       "    <tr style=\"text-align: right;\">\n",
       "      <th></th>\n",
       "      <th>sqft</th>\n",
       "      <th>bdrms</th>\n",
       "      <th>age</th>\n",
       "      <th>price</th>\n",
       "    </tr>\n",
       "  </thead>\n",
       "  <tbody>\n",
       "    <tr>\n",
       "      <th>0</th>\n",
       "      <td>0.345284</td>\n",
       "      <td>3</td>\n",
       "      <td>0.878378</td>\n",
       "      <td>0.433962</td>\n",
       "    </tr>\n",
       "    <tr>\n",
       "      <th>1</th>\n",
       "      <td>0.206288</td>\n",
       "      <td>3</td>\n",
       "      <td>0.310811</td>\n",
       "      <td>0.301887</td>\n",
       "    </tr>\n",
       "    <tr>\n",
       "      <th>2</th>\n",
       "      <td>0.426917</td>\n",
       "      <td>3</td>\n",
       "      <td>0.527027</td>\n",
       "      <td>0.375660</td>\n",
       "    </tr>\n",
       "    <tr>\n",
       "      <th>3</th>\n",
       "      <td>0.155543</td>\n",
       "      <td>2</td>\n",
       "      <td>0.594595</td>\n",
       "      <td>0.117170</td>\n",
       "    </tr>\n",
       "    <tr>\n",
       "      <th>4</th>\n",
       "      <td>0.592388</td>\n",
       "      <td>4</td>\n",
       "      <td>0.945946</td>\n",
       "      <td>0.698113</td>\n",
       "    </tr>\n",
       "  </tbody>\n",
       "</table>\n",
       "</div>"
      ],
      "text/plain": [
       "       sqft  bdrms       age     price\n",
       "0  0.345284      3  0.878378  0.433962\n",
       "1  0.206288      3  0.310811  0.301887\n",
       "2  0.426917      3  0.527027  0.375660\n",
       "3  0.155543      2  0.594595  0.117170\n",
       "4  0.592388      4  0.945946  0.698113"
      ]
     },
     "execution_count": 4,
     "metadata": {},
     "output_type": "execute_result"
    }
   ],
   "source": [
    "# Feature Processing\n",
    "mms = MinMaxScaler()\n",
    "housing_data['sqft'] = mms.fit_transform(housing_data[['sqft']])\n",
    "# Didn't alter bdrms\n",
    "housing_data['age'] = mms.fit_transform(housing_data[['age']])\n",
    "housing_data['price'] = mms.fit_transform(housing_data[['price']])\n",
    "\n",
    "housing_data.head()"
   ]
  },
  {
   "cell_type": "code",
   "execution_count": 5,
   "metadata": {},
   "outputs": [
    {
     "data": {
      "image/png": "[encoded data removed]",
      "text/plain": [
       "<Figure size 1440x432 with 4 Axes>"
      ]
     },
     "metadata": {
      "needs_background": "light"
     },
     "output_type": "display_data"
    }
   ],
   "source": [
    "plt.figure(figsize=(20,6))\n",
    "for i,feature in enumerate(housing_data.columns):\n",
    "    plt.subplot(1,4,i+1)\n",
    "    housing_data[feature].plot(kind='hist',title=feature)\n",
    "    plt.xlabel(feature)\n",
    "    "
   ]
  },
  {
   "cell_type": "code",
   "execution_count": 6,
   "metadata": {},
   "outputs": [],
   "source": [
    "y = housing_data['price'].values\n",
    "X = housing_data.loc[:, housing_data.columns != 'price'].values"
   ]
  },
  {
   "cell_type": "code",
   "execution_count": 7,
   "metadata": {},
   "outputs": [
    {
     "name": "stdout",
     "output_type": "stream",
     "text": [
      "Model: \"sequential\"\n",
      "_________________________________________________________________\n",
      "Layer (type)                 Output Shape              Param #   \n",
      "=================================================================\n",
      "dense (Dense)                (None, 1)                 4         \n",
      "=================================================================\n",
      "Total params: 4\n",
      "Trainable params: 4\n",
      "Non-trainable params: 0\n",
      "_________________________________________________________________\n"
     ]
    }
   ],
   "source": [
    "model = Sequential()\n",
    "model.add(Dense(1,input_shape=(3,)))\n",
    "model.compile(Adam(lr=0.8),'mean_squared_error')\n",
    "model.summary()"
   ]
  },
  {
   "cell_type": "code",
   "execution_count": 8,
   "metadata": {},
   "outputs": [
    {
     "name": "stdout",
     "output_type": "stream",
     "text": [
      "[array([[ 0.61935127],\n",
      "       [ 0.3211689 ],\n",
      "       [-0.0528661 ]], dtype=float32), array([0.], dtype=float32)]\n",
      "[array([[0.],\n",
      "       [0.],\n",
      "       [0.]]), array([0.])]\n"
     ]
    }
   ],
   "source": [
    "params = model.get_weights()\n",
    "print(params)\n",
    "params = [np.zeros(w.shape) for w in params] # much more efficient\n",
    "model.set_weights(params)\n",
    "print(params)"
   ]
  },
  {
   "cell_type": "code",
   "execution_count": 9,
   "metadata": {},
   "outputs": [],
   "source": [
    "X_train,X_test,y_train,y_test = train_test_split(X,y,test_size=.2)"
   ]
  },
  {
   "cell_type": "code",
   "execution_count": 10,
   "metadata": {
    "scrolled": false
   },
   "outputs": [
    {
     "name": "stdout",
     "output_type": "stream",
     "text": [
      "Epoch 1/60\n",
      "2/2 [==============================] - 0s 768us/step - loss: 2.2116\n",
      "Epoch 2/60\n",
      "2/2 [==============================] - 0s 786us/step - loss: 1.2750\n",
      "Epoch 3/60\n",
      "2/2 [==============================] - 0s 631us/step - loss: 7.8453\n",
      "Epoch 4/60\n",
      "2/2 [==============================] - 0s 644us/step - loss: 1.1975\n",
      "Epoch 5/60\n",
      "2/2 [==============================] - 0s 651us/step - loss: 2.5548\n",
      "Epoch 6/60\n",
      "2/2 [==============================] - 0s 696us/step - loss: 2.9296\n",
      "Epoch 7/60\n",
      "2/2 [==============================] - 0s 908us/step - loss: 0.1584\n",
      "Epoch 8/60\n",
      "2/2 [==============================] - 0s 894us/step - loss: 1.6451\n",
      "Epoch 9/60\n",
      "2/2 [==============================] - 0s 1ms/step - loss: 0.9257\n",
      "Epoch 10/60\n",
      "2/2 [==============================] - 0s 1ms/step - loss: 0.1399\n",
      "Epoch 11/60\n",
      "2/2 [==============================] - 0s 1ms/step - loss: 0.9013\n",
      "Epoch 12/60\n",
      "2/2 [==============================] - 0s 840us/step - loss: 0.2718\n",
      "Epoch 13/60\n",
      "2/2 [==============================] - 0s 957us/step - loss: 0.1950\n",
      "Epoch 14/60\n",
      "2/2 [==============================] - 0s 1ms/step - loss: 0.5904\n",
      "Epoch 15/60\n",
      "2/2 [==============================] - 0s 881us/step - loss: 0.0908\n",
      "Epoch 16/60\n",
      "2/2 [==============================] - 0s 932us/step - loss: 0.2518\n",
      "Epoch 17/60\n",
      "2/2 [==============================] - 0s 1ms/step - loss: 0.2915\n",
      "Epoch 18/60\n",
      "2/2 [==============================] - 0s 1ms/step - loss: 0.0442\n",
      "Epoch 19/60\n",
      "2/2 [==============================] - 0s 854us/step - loss: 0.3052\n",
      "Epoch 20/60\n",
      "2/2 [==============================] - 0s 957us/step - loss: 0.0836\n",
      "Epoch 21/60\n",
      "2/2 [==============================] - 0s 969us/step - loss: 0.1328\n",
      "Epoch 22/60\n",
      "2/2 [==============================] - 0s 958us/step - loss: 0.2036\n",
      "Epoch 23/60\n",
      "2/2 [==============================] - 0s 781us/step - loss: 0.0212\n",
      "Epoch 24/60\n",
      "2/2 [==============================] - 0s 813us/step - loss: 0.1819\n",
      "Epoch 25/60\n",
      "2/2 [==============================] - 0s 1ms/step - loss: 0.0495\n",
      "Epoch 26/60\n",
      "2/2 [==============================] - 0s 1ms/step - loss: 0.1169\n",
      "Epoch 27/60\n",
      "2/2 [==============================] - 0s 808us/step - loss: 0.1255\n",
      "Epoch 28/60\n",
      "2/2 [==============================] - 0s 1ms/step - loss: 0.0361\n",
      "Epoch 29/60\n",
      "2/2 [==============================] - 0s 852us/step - loss: 0.1172\n",
      "Epoch 30/60\n",
      "2/2 [==============================] - 0s 927us/step - loss: 0.0201\n",
      "Epoch 31/60\n",
      "2/2 [==============================] - 0s 835us/step - loss: 0.0700\n",
      "Epoch 32/60\n",
      "2/2 [==============================] - 0s 878us/step - loss: 0.0354\n",
      "Epoch 33/60\n",
      "2/2 [==============================] - 0s 1ms/step - loss: 0.0348\n",
      "Epoch 34/60\n",
      "2/2 [==============================] - 0s 958us/step - loss: 0.0425\n",
      "Epoch 35/60\n",
      "2/2 [==============================] - 0s 957us/step - loss: 0.0189\n",
      "Epoch 36/60\n",
      "2/2 [==============================] - 0s 1ms/step - loss: 0.0483\n",
      "Epoch 37/60\n",
      "2/2 [==============================] - 0s 1ms/step - loss: 0.0195\n",
      "Epoch 38/60\n",
      "2/2 [==============================] - 0s 923us/step - loss: 0.0321\n",
      "Epoch 39/60\n",
      "2/2 [==============================] - 0s 865us/step - loss: 0.0333\n",
      "Epoch 40/60\n",
      "2/2 [==============================] - 0s 970us/step - loss: 0.0158\n",
      "Epoch 41/60\n",
      "2/2 [==============================] - 0s 1ms/step - loss: 0.0336\n",
      "Epoch 42/60\n",
      "2/2 [==============================] - 0s 931us/step - loss: 0.0161\n",
      "Epoch 43/60\n",
      "2/2 [==============================] - 0s 896us/step - loss: 0.0407\n",
      "Epoch 44/60\n",
      "2/2 [==============================] - 0s 1ms/step - loss: 0.0209\n",
      "Epoch 45/60\n",
      "2/2 [==============================] - 0s 968us/step - loss: 0.0279\n",
      "Epoch 46/60\n",
      "2/2 [==============================] - 0s 836us/step - loss: 0.0183\n",
      "Epoch 47/60\n",
      "2/2 [==============================] - 0s 874us/step - loss: 0.0432\n",
      "Epoch 48/60\n",
      "2/2 [==============================] - 0s 1ms/step - loss: 0.0179\n",
      "Epoch 49/60\n",
      "2/2 [==============================] - 0s 1ms/step - loss: 0.0315\n",
      "Epoch 50/60\n",
      "2/2 [==============================] - 0s 996us/step - loss: 0.0179\n",
      "Epoch 51/60\n",
      "2/2 [==============================] - 0s 1ms/step - loss: 0.0232\n",
      "Epoch 52/60\n",
      "2/2 [==============================] - 0s 1ms/step - loss: 0.0167\n",
      "Epoch 53/60\n",
      "2/2 [==============================] - 0s 1ms/step - loss: 0.0295\n",
      "Epoch 54/60\n",
      "2/2 [==============================] - 0s 2ms/step - loss: 0.0156\n",
      "Epoch 55/60\n",
      "2/2 [==============================] - 0s 2ms/step - loss: 0.0411\n",
      "Epoch 56/60\n",
      "2/2 [==============================] - 0s 1ms/step - loss: 0.0186\n",
      "Epoch 57/60\n",
      "2/2 [==============================] - 0s 2ms/step - loss: 0.0304\n",
      "Epoch 58/60\n",
      "2/2 [==============================] - 0s 2ms/step - loss: 0.0177\n",
      "Epoch 59/60\n",
      "2/2 [==============================] - 0s 2ms/step - loss: 0.0248\n",
      "Epoch 60/60\n",
      "2/2 [==============================] - 0s 2ms/step - loss: 0.0189\n"
     ]
    },
    {
     "data": {
      "text/plain": [
       "<tensorflow.python.keras.callbacks.History at 0x7fdd8c839b50>"
      ]
     },
     "execution_count": 10,
     "metadata": {},
     "output_type": "execute_result"
    }
   ],
   "source": [
    "model.fit(X_train,y_train,epochs=60)"
   ]
  },
  {
   "cell_type": "code",
   "execution_count": 11,
   "metadata": {},
   "outputs": [],
   "source": [
    "y_pred = model.predict(X_test)"
   ]
  },
  {
   "cell_type": "code",
   "execution_count": 12,
   "metadata": {},
   "outputs": [
    {
     "data": {
      "text/plain": [
       "0.5460729211660477"
      ]
     },
     "execution_count": 12,
     "metadata": {},
     "output_type": "execute_result"
    }
   ],
   "source": [
    "r2_score(y_test,y_pred)"
   ]
  },
  {
   "cell_type": "markdown",
   "metadata": {},
   "source": [
    "## Exercise 2\n",
    "\n",
    "Your boss was extremely happy with your work on the housing price prediction model and decided to entrust you with a more challenging task. They've seen a lot of people leave the company recently and they would like to understand why that's happening. They have collected historical data on employees and they would like you to build a model that is able to predict which employee will leave next. They would like a model that is better than random guessing. They also prefer false negatives than false positives, in this first phase. Fields in the dataset include:\n",
    "\n",
    "- Employee satisfaction level\n",
    "- Last evaluation\n",
    "- Number of projects\n",
    "- Average monthly hours\n",
    "- Time spent at the company\n",
    "- Whether they have had a work accident\n",
    "- Whether they have had a promotion in the last 5 years\n",
    "- Department\n",
    "- Salary\n",
    "- Whether the employee has left\n",
    "\n",
    "Your goal is to predict the binary outcome variable `left` using the rest of the data. Since the outcome is binary, this is a classification problem. Here are some things you may want to try out:\n",
    "\n",
    "1. load the dataset at ../data/HR_comma_sep.csv, inspect it with `.head()`, `.info()` and `.describe()`.\n",
    "- Establish a benchmark: what would be your accuracy score if you predicted everyone stay?\n",
    "- Check if any feature needs rescaling. You may plot a histogram of the feature to decide which rescaling method is more appropriate.\n",
    "- convert the categorical features into binary dummy columns. You will then have to combine them with the numerical features using `pd.concat`.\n",
    "- do the usual train/test split with a 20% test size\n",
    "- play around with learning rate and optimizer\n",
    "- check the confusion matrix, precision and recall\n",
    "- check if you still get the same results if you use a 5-Fold cross validation on all the data\n",
    "- Is the model good enough for your boss?\n",
    "\n",
    "As you will see in this exercise, the a logistic regression model is not good enough to help your boss. In the next chapter we will learn how to go beyond linear models.\n",
    "\n",
    "This dataset comes from https://www.kaggle.com/ludobenistant/hr-analytics/ and is released under [CC BY-SA 4.0 License](https://creativecommons.org/licenses/by-sa/4.0/)."
   ]
  },
  {
   "cell_type": "code",
   "execution_count": 13,
   "metadata": {},
   "outputs": [
    {
     "data": {
      "text/html": [
       "<div>\n",
       "<style scoped>\n",
       "    .dataframe tbody tr th:only-of-type {\n",
       "        vertical-align: middle;\n",
       "    }\n",
       "\n",
       "    .dataframe tbody tr th {\n",
       "        vertical-align: top;\n",
       "    }\n",
       "\n",
       "    .dataframe thead th {\n",
       "        text-align: right;\n",
       "    }\n",
       "</style>\n",
       "<table border=\"1\" class=\"dataframe\">\n",
       "  <thead>\n",
       "    <tr style=\"text-align: right;\">\n",
       "      <th></th>\n",
       "      <th>satisfaction_level</th>\n",
       "      <th>last_evaluation</th>\n",
       "      <th>number_project</th>\n",
       "      <th>average_montly_hours</th>\n",
       "      <th>time_spend_company</th>\n",
       "      <th>Work_accident</th>\n",
       "      <th>left</th>\n",
       "      <th>promotion_last_5years</th>\n",
       "      <th>sales</th>\n",
       "      <th>salary</th>\n",
       "    </tr>\n",
       "  </thead>\n",
       "  <tbody>\n",
       "    <tr>\n",
       "      <th>0</th>\n",
       "      <td>0.38</td>\n",
       "      <td>0.53</td>\n",
       "      <td>2</td>\n",
       "      <td>157</td>\n",
       "      <td>3</td>\n",
       "      <td>0</td>\n",
       "      <td>1</td>\n",
       "      <td>0</td>\n",
       "      <td>sales</td>\n",
       "      <td>low</td>\n",
       "    </tr>\n",
       "    <tr>\n",
       "      <th>1</th>\n",
       "      <td>0.80</td>\n",
       "      <td>0.86</td>\n",
       "      <td>5</td>\n",
       "      <td>262</td>\n",
       "      <td>6</td>\n",
       "      <td>0</td>\n",
       "      <td>1</td>\n",
       "      <td>0</td>\n",
       "      <td>sales</td>\n",
       "      <td>medium</td>\n",
       "    </tr>\n",
       "    <tr>\n",
       "      <th>2</th>\n",
       "      <td>0.11</td>\n",
       "      <td>0.88</td>\n",
       "      <td>7</td>\n",
       "      <td>272</td>\n",
       "      <td>4</td>\n",
       "      <td>0</td>\n",
       "      <td>1</td>\n",
       "      <td>0</td>\n",
       "      <td>sales</td>\n",
       "      <td>medium</td>\n",
       "    </tr>\n",
       "    <tr>\n",
       "      <th>3</th>\n",
       "      <td>0.72</td>\n",
       "      <td>0.87</td>\n",
       "      <td>5</td>\n",
       "      <td>223</td>\n",
       "      <td>5</td>\n",
       "      <td>0</td>\n",
       "      <td>1</td>\n",
       "      <td>0</td>\n",
       "      <td>sales</td>\n",
       "      <td>low</td>\n",
       "    </tr>\n",
       "    <tr>\n",
       "      <th>4</th>\n",
       "      <td>0.37</td>\n",
       "      <td>0.52</td>\n",
       "      <td>2</td>\n",
       "      <td>159</td>\n",
       "      <td>3</td>\n",
       "      <td>0</td>\n",
       "      <td>1</td>\n",
       "      <td>0</td>\n",
       "      <td>sales</td>\n",
       "      <td>low</td>\n",
       "    </tr>\n",
       "    <tr>\n",
       "      <th>...</th>\n",
       "      <td>...</td>\n",
       "      <td>...</td>\n",
       "      <td>...</td>\n",
       "      <td>...</td>\n",
       "      <td>...</td>\n",
       "      <td>...</td>\n",
       "      <td>...</td>\n",
       "      <td>...</td>\n",
       "      <td>...</td>\n",
       "      <td>...</td>\n",
       "    </tr>\n",
       "    <tr>\n",
       "      <th>14994</th>\n",
       "      <td>0.40</td>\n",
       "      <td>0.57</td>\n",
       "      <td>2</td>\n",
       "      <td>151</td>\n",
       "      <td>3</td>\n",
       "      <td>0</td>\n",
       "      <td>1</td>\n",
       "      <td>0</td>\n",
       "      <td>support</td>\n",
       "      <td>low</td>\n",
       "    </tr>\n",
       "    <tr>\n",
       "      <th>14995</th>\n",
       "      <td>0.37</td>\n",
       "      <td>0.48</td>\n",
       "      <td>2</td>\n",
       "      <td>160</td>\n",
       "      <td>3</td>\n",
       "      <td>0</td>\n",
       "      <td>1</td>\n",
       "      <td>0</td>\n",
       "      <td>support</td>\n",
       "      <td>low</td>\n",
       "    </tr>\n",
       "    <tr>\n",
       "      <th>14996</th>\n",
       "      <td>0.37</td>\n",
       "      <td>0.53</td>\n",
       "      <td>2</td>\n",
       "      <td>143</td>\n",
       "      <td>3</td>\n",
       "      <td>0</td>\n",
       "      <td>1</td>\n",
       "      <td>0</td>\n",
       "      <td>support</td>\n",
       "      <td>low</td>\n",
       "    </tr>\n",
       "    <tr>\n",
       "      <th>14997</th>\n",
       "      <td>0.11</td>\n",
       "      <td>0.96</td>\n",
       "      <td>6</td>\n",
       "      <td>280</td>\n",
       "      <td>4</td>\n",
       "      <td>0</td>\n",
       "      <td>1</td>\n",
       "      <td>0</td>\n",
       "      <td>support</td>\n",
       "      <td>low</td>\n",
       "    </tr>\n",
       "    <tr>\n",
       "      <th>14998</th>\n",
       "      <td>0.37</td>\n",
       "      <td>0.52</td>\n",
       "      <td>2</td>\n",
       "      <td>158</td>\n",
       "      <td>3</td>\n",
       "      <td>0</td>\n",
       "      <td>1</td>\n",
       "      <td>0</td>\n",
       "      <td>support</td>\n",
       "      <td>low</td>\n",
       "    </tr>\n",
       "  </tbody>\n",
       "</table>\n",
       "<p>14999 rows × 10 columns</p>\n",
       "</div>"
      ],
      "text/plain": [
       "       satisfaction_level  last_evaluation  number_project  \\\n",
       "0                    0.38             0.53               2   \n",
       "1                    0.80             0.86               5   \n",
       "2                    0.11             0.88               7   \n",
       "3                    0.72             0.87               5   \n",
       "4                    0.37             0.52               2   \n",
       "...                   ...              ...             ...   \n",
       "14994                0.40             0.57               2   \n",
       "14995                0.37             0.48               2   \n",
       "14996                0.37             0.53               2   \n",
       "14997                0.11             0.96               6   \n",
       "14998                0.37             0.52               2   \n",
       "\n",
       "       average_montly_hours  time_spend_company  Work_accident  left  \\\n",
       "0                       157                   3              0     1   \n",
       "1                       262                   6              0     1   \n",
       "2                       272                   4              0     1   \n",
       "3                       223                   5              0     1   \n",
       "4                       159                   3              0     1   \n",
       "...                     ...                 ...            ...   ...   \n",
       "14994                   151                   3              0     1   \n",
       "14995                   160                   3              0     1   \n",
       "14996                   143                   3              0     1   \n",
       "14997                   280                   4              0     1   \n",
       "14998                   158                   3              0     1   \n",
       "\n",
       "       promotion_last_5years    sales  salary  \n",
       "0                          0    sales     low  \n",
       "1                          0    sales  medium  \n",
       "2                          0    sales  medium  \n",
       "3                          0    sales     low  \n",
       "4                          0    sales     low  \n",
       "...                      ...      ...     ...  \n",
       "14994                      0  support     low  \n",
       "14995                      0  support     low  \n",
       "14996                      0  support     low  \n",
       "14997                      0  support     low  \n",
       "14998                      0  support     low  \n",
       "\n",
       "[14999 rows x 10 columns]"
      ]
     },
     "execution_count": 13,
     "metadata": {},
     "output_type": "execute_result"
    }
   ],
   "source": [
    "hr_data = pd.read_csv(\"data/HR_comma_sep.csv\")\n",
    "hr_data"
   ]
  },
  {
   "cell_type": "code",
   "execution_count": 14,
   "metadata": {},
   "outputs": [
    {
     "data": {
      "image/png": "[encoded data removed]",
      "text/plain": [
       "<Figure size 1728x432 with 4 Axes>"
      ]
     },
     "metadata": {
      "needs_background": "light"
     },
     "output_type": "display_data"
    },
    {
     "data": {
      "image/png": "[encoded data removed]",
      "text/plain": [
       "<Figure size 1728x432 with 4 Axes>"
      ]
     },
     "metadata": {
      "needs_background": "light"
     },
     "output_type": "display_data"
    }
   ],
   "source": [
    "plt.figure(figsize=(24,6))\n",
    "for i,feature in enumerate(hr_data.columns[:4]):\n",
    "    plt.subplot(1,4,i+1)\n",
    "    hr_data[feature].plot(kind='hist',title=feature)\n",
    "    plt.xlabel(feature)\n",
    "\n",
    "plt.figure(figsize=(24,6))   \n",
    "for i,feature in enumerate(hr_data.columns[4:8]):\n",
    "    plt.subplot(1,4,i+1)\n",
    "    hr_data[feature].plot(kind='hist',title=feature)\n",
    "    plt.xlabel(feature)\n",
    "    "
   ]
  },
  {
   "cell_type": "code",
   "execution_count": 15,
   "metadata": {},
   "outputs": [],
   "source": [
    "# Feature Processing\n",
    "hr_data['average_montly_hours'] = mms.fit_transform(hr_data[['average_montly_hours']])\n",
    "hr_data.rename(columns={'sales':'position'}, inplace=True)\n",
    "hr_data = pd.get_dummies(hr_data,columns=['position','salary'])"
   ]
  },
  {
   "cell_type": "code",
   "execution_count": 16,
   "metadata": {},
   "outputs": [
    {
     "data": {
      "text/html": [
       "<div>\n",
       "<style scoped>\n",
       "    .dataframe tbody tr th:only-of-type {\n",
       "        vertical-align: middle;\n",
       "    }\n",
       "\n",
       "    .dataframe tbody tr th {\n",
       "        vertical-align: top;\n",
       "    }\n",
       "\n",
       "    .dataframe thead th {\n",
       "        text-align: right;\n",
       "    }\n",
       "</style>\n",
       "<table border=\"1\" class=\"dataframe\">\n",
       "  <thead>\n",
       "    <tr style=\"text-align: right;\">\n",
       "      <th></th>\n",
       "      <th>satisfaction_level</th>\n",
       "      <th>last_evaluation</th>\n",
       "      <th>number_project</th>\n",
       "      <th>average_montly_hours</th>\n",
       "      <th>time_spend_company</th>\n",
       "      <th>Work_accident</th>\n",
       "      <th>left</th>\n",
       "      <th>promotion_last_5years</th>\n",
       "      <th>position_IT</th>\n",
       "      <th>position_RandD</th>\n",
       "      <th>...</th>\n",
       "      <th>position_hr</th>\n",
       "      <th>position_management</th>\n",
       "      <th>position_marketing</th>\n",
       "      <th>position_product_mng</th>\n",
       "      <th>position_sales</th>\n",
       "      <th>position_support</th>\n",
       "      <th>position_technical</th>\n",
       "      <th>salary_high</th>\n",
       "      <th>salary_low</th>\n",
       "      <th>salary_medium</th>\n",
       "    </tr>\n",
       "  </thead>\n",
       "  <tbody>\n",
       "    <tr>\n",
       "      <th>0</th>\n",
       "      <td>0.38</td>\n",
       "      <td>0.53</td>\n",
       "      <td>2</td>\n",
       "      <td>0.285047</td>\n",
       "      <td>3</td>\n",
       "      <td>0</td>\n",
       "      <td>1</td>\n",
       "      <td>0</td>\n",
       "      <td>0</td>\n",
       "      <td>0</td>\n",
       "      <td>...</td>\n",
       "      <td>0</td>\n",
       "      <td>0</td>\n",
       "      <td>0</td>\n",
       "      <td>0</td>\n",
       "      <td>1</td>\n",
       "      <td>0</td>\n",
       "      <td>0</td>\n",
       "      <td>0</td>\n",
       "      <td>1</td>\n",
       "      <td>0</td>\n",
       "    </tr>\n",
       "    <tr>\n",
       "      <th>1</th>\n",
       "      <td>0.80</td>\n",
       "      <td>0.86</td>\n",
       "      <td>5</td>\n",
       "      <td>0.775701</td>\n",
       "      <td>6</td>\n",
       "      <td>0</td>\n",
       "      <td>1</td>\n",
       "      <td>0</td>\n",
       "      <td>0</td>\n",
       "      <td>0</td>\n",
       "      <td>...</td>\n",
       "      <td>0</td>\n",
       "      <td>0</td>\n",
       "      <td>0</td>\n",
       "      <td>0</td>\n",
       "      <td>1</td>\n",
       "      <td>0</td>\n",
       "      <td>0</td>\n",
       "      <td>0</td>\n",
       "      <td>0</td>\n",
       "      <td>1</td>\n",
       "    </tr>\n",
       "    <tr>\n",
       "      <th>2</th>\n",
       "      <td>0.11</td>\n",
       "      <td>0.88</td>\n",
       "      <td>7</td>\n",
       "      <td>0.822430</td>\n",
       "      <td>4</td>\n",
       "      <td>0</td>\n",
       "      <td>1</td>\n",
       "      <td>0</td>\n",
       "      <td>0</td>\n",
       "      <td>0</td>\n",
       "      <td>...</td>\n",
       "      <td>0</td>\n",
       "      <td>0</td>\n",
       "      <td>0</td>\n",
       "      <td>0</td>\n",
       "      <td>1</td>\n",
       "      <td>0</td>\n",
       "      <td>0</td>\n",
       "      <td>0</td>\n",
       "      <td>0</td>\n",
       "      <td>1</td>\n",
       "    </tr>\n",
       "    <tr>\n",
       "      <th>3</th>\n",
       "      <td>0.72</td>\n",
       "      <td>0.87</td>\n",
       "      <td>5</td>\n",
       "      <td>0.593458</td>\n",
       "      <td>5</td>\n",
       "      <td>0</td>\n",
       "      <td>1</td>\n",
       "      <td>0</td>\n",
       "      <td>0</td>\n",
       "      <td>0</td>\n",
       "      <td>...</td>\n",
       "      <td>0</td>\n",
       "      <td>0</td>\n",
       "      <td>0</td>\n",
       "      <td>0</td>\n",
       "      <td>1</td>\n",
       "      <td>0</td>\n",
       "      <td>0</td>\n",
       "      <td>0</td>\n",
       "      <td>1</td>\n",
       "      <td>0</td>\n",
       "    </tr>\n",
       "    <tr>\n",
       "      <th>4</th>\n",
       "      <td>0.37</td>\n",
       "      <td>0.52</td>\n",
       "      <td>2</td>\n",
       "      <td>0.294393</td>\n",
       "      <td>3</td>\n",
       "      <td>0</td>\n",
       "      <td>1</td>\n",
       "      <td>0</td>\n",
       "      <td>0</td>\n",
       "      <td>0</td>\n",
       "      <td>...</td>\n",
       "      <td>0</td>\n",
       "      <td>0</td>\n",
       "      <td>0</td>\n",
       "      <td>0</td>\n",
       "      <td>1</td>\n",
       "      <td>0</td>\n",
       "      <td>0</td>\n",
       "      <td>0</td>\n",
       "      <td>1</td>\n",
       "      <td>0</td>\n",
       "    </tr>\n",
       "  </tbody>\n",
       "</table>\n",
       "<p>5 rows × 21 columns</p>\n",
       "</div>"
      ],
      "text/plain": [
       "   satisfaction_level  last_evaluation  number_project  average_montly_hours  \\\n",
       "0                0.38             0.53               2              0.285047   \n",
       "1                0.80             0.86               5              0.775701   \n",
       "2                0.11             0.88               7              0.822430   \n",
       "3                0.72             0.87               5              0.593458   \n",
       "4                0.37             0.52               2              0.294393   \n",
       "\n",
       "   time_spend_company  Work_accident  left  promotion_last_5years  \\\n",
       "0                   3              0     1                      0   \n",
       "1                   6              0     1                      0   \n",
       "2                   4              0     1                      0   \n",
       "3                   5              0     1                      0   \n",
       "4                   3              0     1                      0   \n",
       "\n",
       "   position_IT  position_RandD  ...  position_hr  position_management  \\\n",
       "0            0               0  ...            0                    0   \n",
       "1            0               0  ...            0                    0   \n",
       "2            0               0  ...            0                    0   \n",
       "3            0               0  ...            0                    0   \n",
       "4            0               0  ...            0                    0   \n",
       "\n",
       "   position_marketing  position_product_mng  position_sales  position_support  \\\n",
       "0                   0                     0               1                 0   \n",
       "1                   0                     0               1                 0   \n",
       "2                   0                     0               1                 0   \n",
       "3                   0                     0               1                 0   \n",
       "4                   0                     0               1                 0   \n",
       "\n",
       "   position_technical  salary_high  salary_low  salary_medium  \n",
       "0                   0            0           1              0  \n",
       "1                   0            0           0              1  \n",
       "2                   0            0           0              1  \n",
       "3                   0            0           1              0  \n",
       "4                   0            0           1              0  \n",
       "\n",
       "[5 rows x 21 columns]"
      ]
     },
     "execution_count": 16,
     "metadata": {},
     "output_type": "execute_result"
    }
   ],
   "source": [
    "# hr_data.join(positions,how='left')\n",
    "hr_data.head()"
   ]
  },
  {
   "cell_type": "code",
   "execution_count": 17,
   "metadata": {},
   "outputs": [],
   "source": [
    "y = hr_data['left'].values\n",
    "X = hr_data.loc[:, hr_data.columns != 'left'].values"
   ]
  },
  {
   "cell_type": "code",
   "execution_count": 18,
   "metadata": {},
   "outputs": [],
   "source": [
    "X_train,X_test,y_train,y_test = train_test_split(X,y,test_size=.2)"
   ]
  },
  {
   "cell_type": "code",
   "execution_count": 19,
   "metadata": {},
   "outputs": [
    {
     "data": {
      "text/plain": [
       "20"
      ]
     },
     "execution_count": 19,
     "metadata": {},
     "output_type": "execute_result"
    }
   ],
   "source": [
    "len(hr_data.loc[:, hr_data.columns != 'left'].columns)"
   ]
  },
  {
   "cell_type": "code",
   "execution_count": 20,
   "metadata": {},
   "outputs": [
    {
     "name": "stdout",
     "output_type": "stream",
     "text": [
      "Model: \"sequential_1\"\n",
      "_________________________________________________________________\n",
      "Layer (type)                 Output Shape              Param #   \n",
      "=================================================================\n",
      "dense_1 (Dense)              (None, 1)                 21        \n",
      "=================================================================\n",
      "Total params: 21\n",
      "Trainable params: 21\n",
      "Non-trainable params: 0\n",
      "_________________________________________________________________\n"
     ]
    }
   ],
   "source": [
    "model = Sequential()\n",
    "model.add(Dense(1,input_shape=(20,)))\n",
    "model.compile(SGD(lr=.5),\n",
    "              'binary_crossentropy',\n",
    "             metrics=['accuracy'])\n",
    "model.summary()"
   ]
  },
  {
   "cell_type": "code",
   "execution_count": 21,
   "metadata": {},
   "outputs": [
    {
     "name": "stdout",
     "output_type": "stream",
     "text": [
      "Epoch 1/60\n",
      "375/375 [==============================] - 0s 552us/step - loss: 3.6946 - accuracy: 0.7605\n",
      "Epoch 2/60\n",
      "375/375 [==============================] - 0s 551us/step - loss: 3.6946 - accuracy: 0.7605\n",
      "Epoch 3/60\n",
      "375/375 [==============================] - 0s 632us/step - loss: 3.6946 - accuracy: 0.7605\n",
      "Epoch 4/60\n",
      "375/375 [==============================] - 0s 605us/step - loss: 3.6946 - accuracy: 0.7605\n",
      "Epoch 5/60\n",
      "375/375 [==============================] - 0s 587us/step - loss: 3.6946 - accuracy: 0.7605\n",
      "Epoch 6/60\n",
      "375/375 [==============================] - 0s 559us/step - loss: 3.6946 - accuracy: 0.7605\n",
      "Epoch 7/60\n",
      "375/375 [==============================] - 0s 580us/step - loss: 3.6946 - accuracy: 0.7605\n",
      "Epoch 8/60\n",
      "375/375 [==============================] - 0s 584us/step - loss: 3.6946 - accuracy: 0.7605\n",
      "Epoch 9/60\n",
      "375/375 [==============================] - 0s 587us/step - loss: 3.6946 - accuracy: 0.7605\n",
      "Epoch 10/60\n",
      "375/375 [==============================] - 0s 636us/step - loss: 3.6946 - accuracy: 0.7605\n",
      "Epoch 11/60\n",
      "375/375 [==============================] - 0s 584us/step - loss: 3.6946 - accuracy: 0.7605\n",
      "Epoch 12/60\n",
      "375/375 [==============================] - 0s 562us/step - loss: 3.6946 - accuracy: 0.7605\n",
      "Epoch 13/60\n",
      "375/375 [==============================] - 0s 620us/step - loss: 3.6946 - accuracy: 0.7605\n",
      "Epoch 14/60\n",
      "375/375 [==============================] - 0s 570us/step - loss: 3.6946 - accuracy: 0.7605\n",
      "Epoch 15/60\n",
      "375/375 [==============================] - 0s 576us/step - loss: 3.6946 - accuracy: 0.7605\n",
      "Epoch 16/60\n",
      "375/375 [==============================] - 0s 585us/step - loss: 3.6946 - accuracy: 0.7605\n",
      "Epoch 17/60\n",
      "375/375 [==============================] - 0s 607us/step - loss: 3.6946 - accuracy: 0.7605\n",
      "Epoch 18/60\n",
      "375/375 [==============================] - 0s 575us/step - loss: 3.6946 - accuracy: 0.7605\n",
      "Epoch 19/60\n",
      "375/375 [==============================] - 0s 552us/step - loss: 3.6946 - accuracy: 0.7605\n",
      "Epoch 20/60\n",
      "375/375 [==============================] - 0s 551us/step - loss: 3.6946 - accuracy: 0.7605\n",
      "Epoch 21/60\n",
      "375/375 [==============================] - 0s 545us/step - loss: 3.6946 - accuracy: 0.7605\n",
      "Epoch 22/60\n",
      "375/375 [==============================] - 0s 564us/step - loss: 3.6946 - accuracy: 0.7605\n",
      "Epoch 23/60\n",
      "375/375 [==============================] - 0s 559us/step - loss: 3.6946 - accuracy: 0.7605\n",
      "Epoch 24/60\n",
      "375/375 [==============================] - 0s 569us/step - loss: 3.6946 - accuracy: 0.7605\n",
      "Epoch 25/60\n",
      "375/375 [==============================] - 0s 576us/step - loss: 3.6946 - accuracy: 0.7605\n",
      "Epoch 26/60\n",
      "375/375 [==============================] - 0s 593us/step - loss: 3.6946 - accuracy: 0.7605\n",
      "Epoch 27/60\n",
      "375/375 [==============================] - 0s 588us/step - loss: 3.6946 - accuracy: 0.7605\n",
      "Epoch 28/60\n",
      "375/375 [==============================] - 0s 582us/step - loss: 3.6946 - accuracy: 0.7605\n",
      "Epoch 29/60\n",
      "375/375 [==============================] - 0s 583us/step - loss: 3.6946 - accuracy: 0.7605\n",
      "Epoch 30/60\n",
      "375/375 [==============================] - 0s 583us/step - loss: 3.6946 - accuracy: 0.7605\n",
      "Epoch 31/60\n",
      "375/375 [==============================] - 0s 587us/step - loss: 3.6946 - accuracy: 0.7605\n",
      "Epoch 32/60\n",
      "375/375 [==============================] - 0s 636us/step - loss: 3.6946 - accuracy: 0.7605\n",
      "Epoch 33/60\n",
      "375/375 [==============================] - 0s 580us/step - loss: 3.6946 - accuracy: 0.7605\n",
      "Epoch 34/60\n",
      "375/375 [==============================] - 0s 586us/step - loss: 3.6946 - accuracy: 0.7605\n",
      "Epoch 35/60\n",
      "375/375 [==============================] - 0s 589us/step - loss: 3.6946 - accuracy: 0.7605\n",
      "Epoch 36/60\n",
      "375/375 [==============================] - 0s 580us/step - loss: 3.6946 - accuracy: 0.7605\n",
      "Epoch 37/60\n",
      "375/375 [==============================] - 0s 591us/step - loss: 3.6946 - accuracy: 0.7605\n",
      "Epoch 38/60\n",
      "375/375 [==============================] - 0s 583us/step - loss: 3.6946 - accuracy: 0.7605\n",
      "Epoch 39/60\n",
      "375/375 [==============================] - 0s 587us/step - loss: 3.6946 - accuracy: 0.7605\n",
      "Epoch 40/60\n",
      "375/375 [==============================] - 0s 587us/step - loss: 3.6946 - accuracy: 0.7605\n",
      "Epoch 41/60\n",
      "375/375 [==============================] - 0s 588us/step - loss: 3.6946 - accuracy: 0.7605\n",
      "Epoch 42/60\n",
      "375/375 [==============================] - 0s 584us/step - loss: 3.6946 - accuracy: 0.7605\n",
      "Epoch 43/60\n",
      "375/375 [==============================] - 0s 585us/step - loss: 3.6946 - accuracy: 0.7605\n",
      "Epoch 44/60\n",
      "375/375 [==============================] - 0s 584us/step - loss: 3.6946 - accuracy: 0.7605\n",
      "Epoch 45/60\n",
      "375/375 [==============================] - 0s 590us/step - loss: 3.6946 - accuracy: 0.7605\n",
      "Epoch 46/60\n",
      "375/375 [==============================] - 0s 584us/step - loss: 3.6946 - accuracy: 0.7605\n",
      "Epoch 47/60\n",
      "375/375 [==============================] - 0s 583us/step - loss: 3.6946 - accuracy: 0.7605\n",
      "Epoch 48/60\n",
      "375/375 [==============================] - 0s 598us/step - loss: 3.6946 - accuracy: 0.7605\n",
      "Epoch 49/60\n",
      "375/375 [==============================] - 0s 602us/step - loss: 3.6946 - accuracy: 0.7605\n",
      "Epoch 50/60\n",
      "375/375 [==============================] - 0s 617us/step - loss: 3.6946 - accuracy: 0.7605\n",
      "Epoch 51/60\n",
      "375/375 [==============================] - 0s 596us/step - loss: 3.6946 - accuracy: 0.7605\n",
      "Epoch 52/60\n",
      "375/375 [==============================] - 0s 593us/step - loss: 3.6946 - accuracy: 0.7605\n",
      "Epoch 53/60\n",
      "375/375 [==============================] - 0s 588us/step - loss: 3.6946 - accuracy: 0.7605\n",
      "Epoch 54/60\n",
      "375/375 [==============================] - 0s 656us/step - loss: 3.6946 - accuracy: 0.7605\n",
      "Epoch 55/60\n",
      "375/375 [==============================] - 0s 620us/step - loss: 3.6946 - accuracy: 0.7605\n",
      "Epoch 56/60\n",
      "375/375 [==============================] - 0s 593us/step - loss: 3.6946 - accuracy: 0.7605\n",
      "Epoch 57/60\n",
      "375/375 [==============================] - 0s 587us/step - loss: 3.6946 - accuracy: 0.7605\n",
      "Epoch 58/60\n",
      "375/375 [==============================] - 0s 587us/step - loss: 3.6946 - accuracy: 0.7605\n",
      "Epoch 59/60\n",
      "375/375 [==============================] - 0s 591us/step - loss: 3.6946 - accuracy: 0.7605\n",
      "Epoch 60/60\n",
      "375/375 [==============================] - 0s 593us/step - loss: 3.6946 - accuracy: 0.7605\n"
     ]
    },
    {
     "data": {
      "text/plain": [
       "<tensorflow.python.keras.callbacks.History at 0x7fdd8db711d0>"
      ]
     },
     "execution_count": 21,
     "metadata": {},
     "output_type": "execute_result"
    }
   ],
   "source": [
    "model.fit(X_train,y_train,epochs=60)"
   ]
  },
  {
   "cell_type": "code",
   "execution_count": 22,
   "metadata": {},
   "outputs": [],
   "source": [
    "y_pred = model.predict(X_test) > 0.5"
   ]
  },
  {
   "cell_type": "code",
   "execution_count": 23,
   "metadata": {},
   "outputs": [
    {
     "data": {
      "text/plain": [
       "array([[False],\n",
       "       [False],\n",
       "       [False],\n",
       "       ...,\n",
       "       [False],\n",
       "       [False],\n",
       "       [False]])"
      ]
     },
     "execution_count": 23,
     "metadata": {},
     "output_type": "execute_result"
    }
   ],
   "source": [
    "y_pred"
   ]
  },
  {
   "cell_type": "code",
   "execution_count": 24,
   "metadata": {},
   "outputs": [],
   "source": [
    "def pretty_confusion_matrix(y_true,y_pred,labels =['False','True']):\n",
    "    cm = confusion_matrix(y_true,y_pred)\n",
    "    pred_labels = ['Predicted '+ l for l in labels]\n",
    "    df = pd.DataFrame(cm,index=labels,columns=pred_labels)\n",
    "    return df"
   ]
  },
  {
   "cell_type": "code",
   "execution_count": 25,
   "metadata": {},
   "outputs": [
    {
     "data": {
      "text/html": [
       "<div>\n",
       "<style scoped>\n",
       "    .dataframe tbody tr th:only-of-type {\n",
       "        vertical-align: middle;\n",
       "    }\n",
       "\n",
       "    .dataframe tbody tr th {\n",
       "        vertical-align: top;\n",
       "    }\n",
       "\n",
       "    .dataframe thead th {\n",
       "        text-align: right;\n",
       "    }\n",
       "</style>\n",
       "<table border=\"1\" class=\"dataframe\">\n",
       "  <thead>\n",
       "    <tr style=\"text-align: right;\">\n",
       "      <th></th>\n",
       "      <th>Predicted left</th>\n",
       "      <th>Predicted stayed</th>\n",
       "    </tr>\n",
       "  </thead>\n",
       "  <tbody>\n",
       "    <tr>\n",
       "      <th>left</th>\n",
       "      <td>2303</td>\n",
       "      <td>0</td>\n",
       "    </tr>\n",
       "    <tr>\n",
       "      <th>stayed</th>\n",
       "      <td>697</td>\n",
       "      <td>0</td>\n",
       "    </tr>\n",
       "  </tbody>\n",
       "</table>\n",
       "</div>"
      ],
      "text/plain": [
       "        Predicted left  Predicted stayed\n",
       "left              2303                 0\n",
       "stayed             697                 0"
      ]
     },
     "execution_count": 25,
     "metadata": {},
     "output_type": "execute_result"
    }
   ],
   "source": [
    "pretty_confusion_matrix(y_test,y_pred,['left','stayed'])"
   ]
  },
  {
   "cell_type": "code",
   "execution_count": 26,
   "metadata": {},
   "outputs": [
    {
     "name": "stdout",
     "output_type": "stream",
     "text": [
      "Precision: 0.0\n",
      "Recall: 0.0\n"
     ]
    },
    {
     "name": "stderr",
     "output_type": "stream",
     "text": [
      "/Users/kinkadedarling/anaconda3/envs/fds/lib/python3.7/site-packages/sklearn/metrics/_classification.py:1221: UndefinedMetricWarning: Precision is ill-defined and being set to 0.0 due to no predicted samples. Use `zero_division` parameter to control this behavior.\n",
      "  _warn_prf(average, modifier, msg_start, len(result))\n"
     ]
    }
   ],
   "source": [
    "print(f'Precision: {precision_score(y_test,y_pred)}')\n",
    "print(f'Recall: {recall_score(y_test,y_pred)}')"
   ]
  },
  {
   "cell_type": "code",
   "execution_count": 27,
   "metadata": {},
   "outputs": [],
   "source": [
    "def build_log_regression():\n",
    "    model = Sequential()\n",
    "    model.add(Dense(1,input_shape=(20,),activation='sigmoid'))\n",
    "    model.compile(SGD(lr=.5),\n",
    "                  'binary_crossentropy',\n",
    "                 metrics=['accuracy'])\n",
    "    return model\n",
    "\n",
    "model = KerasClassifier(build_fn=build_log_regression,epochs=25,verbose=0)"
   ]
  },
  {
   "cell_type": "code",
   "execution_count": 30,
   "metadata": {},
   "outputs": [],
   "source": [
    "cv = KFold(5,shuffle=True)\n",
    "scores = cross_val_score(model,X,y,cv=cv)"
   ]
  },
  {
   "cell_type": "code",
   "execution_count": 31,
   "metadata": {},
   "outputs": [
    {
     "data": {
      "text/plain": [
       "array([0.77266669, 0.79299998, 0.78333336, 0.52633333, 0.6335445 ])"
      ]
     },
     "execution_count": 31,
     "metadata": {},
     "output_type": "execute_result"
    }
   ],
   "source": [
    "scores"
   ]
  },
  {
   "cell_type": "code",
   "execution_count": 29,
   "metadata": {},
   "outputs": [
    {
     "name": "stdout",
     "output_type": "stream",
     "text": [
      "0.7649199962615967\n",
      "0.018904875139480824\n"
     ]
    }
   ],
   "source": [
    "print(scores.mean())\n",
    "print(scores.std())\n"
   ]
  },
  {
   "cell_type": "code",
   "execution_count": null,
   "metadata": {},
   "outputs": [],
   "source": []
  }
 ],
 "metadata": {
  "kernelspec": {
   "display_name": "Python 3",
   "language": "python",
   "name": "python3"
  },
  "language_info": {
   "codemirror_mode": {
    "name": "ipython",
    "version": 3
   },
   "file_extension": ".py",
   "mimetype": "text/x-python",
   "name": "python",
   "nbconvert_exporter": "python",
   "pygments_lexer": "ipython3",
   "version": "3.7.7"
  }
 },
 "nbformat": 4,
 "nbformat_minor": 4
}
